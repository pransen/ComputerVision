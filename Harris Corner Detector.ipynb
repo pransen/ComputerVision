{
 "cells": [
  {
   "cell_type": "markdown",
   "metadata": {},
   "source": [
    "# Implementation of Harris Corner Detector"
   ]
  },
  {
   "cell_type": "code",
   "execution_count": 1,
   "metadata": {},
   "outputs": [],
   "source": [
    "# Import necessary functions\n",
    "import numpy as np\n",
    "from skimage.io import imread\n",
    "from skimage.color import rgb2gray\n",
    "from scipy.signal import convolve2d\n",
    "import matplotlib.pyplot as plt\n",
    "from pylab import rcParams"
   ]
  },
  {
   "cell_type": "code",
   "execution_count": 31,
   "metadata": {},
   "outputs": [],
   "source": [
    "# For inline plotting of Matplotlib\n",
    "%matplotlib inline\n",
    "# Get current size\n",
    "plt.rcParams[\"figure.figsize\"] = 10, 10"
   ]
  },
  {
   "cell_type": "code",
   "execution_count": 32,
   "metadata": {},
   "outputs": [
    {
     "data": {
      "text/plain": [
       "<matplotlib.image.AxesImage at 0x2dbda825898>"
      ]
     },
     "execution_count": 32,
     "metadata": {},
     "output_type": "execute_result"
    },
    {
     "data": {
      "image/png": "[encoded data removed]",
      "text/plain": [
       "<matplotlib.figure.Figure at 0x2dbd8e79be0>"
      ]
     },
     "metadata": {},
     "output_type": "display_data"
    }
   ],
   "source": [
    "# Read an image\n",
    "img_path = 'C:/Users/pransen.ORADEV/Desktop/checkerboard.png'\n",
    "img = imread(img_path)\n",
    "plt.imshow(img, cmap='gray')"
   ]
  },
  {
   "cell_type": "code",
   "execution_count": 33,
   "metadata": {},
   "outputs": [],
   "source": [
    "# Using Sobel kernel for computing the gradients\n",
    "def x_gradient(gray_image):\n",
    "    kernel_x = [[-1, 0, 1], [-2, 0, 2], [-1, 0, 1]]\n",
    "    grad_x = convolve2d(gray_image, kernel_x, mode='same')\n",
    "    return grad_x\n",
    "\n",
    "def y_gradient(gray_image):\n",
    "    kernel_y = [[-1, -2, -1], [0, 0, 0], [1, 2, 1]]\n",
    "    grad_y = convolve2d(gray_image, kernel_y, mode='same')\n",
    "    return grad_y"
   ]
  },
  {
   "cell_type": "code",
   "execution_count": 34,
   "metadata": {},
   "outputs": [],
   "source": [
    "def compute_harris_response(color_img, window_size, k=0.08, thresh=10000):\n",
    "    # Convert image to Grayscale\n",
    "    img_gray = rgb2gray(color_img)\n",
    "    \n",
    "    color_copy = color_img.copy()\n",
    "    \n",
    "    offset = int(window_size/2)\n",
    "#     Ix = x_gradient(img_gray)\n",
    "#     Iy = y_gradient(img_gray)\n",
    "    Iy, Ix = np.gradient(img)\n",
    "    \n",
    "    Ixx = Ix * Ix\n",
    "    Iyy = Iy * Iy\n",
    "    Ixy = Ix * Iy\n",
    "    height, width = img_gray.shape\n",
    "    \n",
    "    corner_list = list()\n",
    "    \n",
    "    for y in range(offset, height-offset):\n",
    "        for x in range(offset, width-offset):\n",
    "            Sxx = np.sum(Ixx[y-offset:y+1+offset, x-offset:x+1+offset])\n",
    "            Syy = np.sum(Iyy[y-offset:y+1+offset, x-offset:x+1+offset])\n",
    "            Sxy = np.sum(Ixy[y-offset:y+1+offset, x-offset:x+1+offset])\n",
    "            det = (Sxx * Syy) - (Sxy**2)\n",
    "            trace = Sxx + Syy\n",
    "            r = det - k*(trace**2)\n",
    "            if r > thresh:\n",
    "                corner_list.append([x, y, r])\n",
    "                color_copy[y, x] = 127\n",
    "    return color_copy, corner_list\n",
    "            \n",
    "    "
   ]
  },
  {
   "cell_type": "code",
   "execution_count": 35,
   "metadata": {},
   "outputs": [
    {
     "data": {
      "text/plain": [
       "<matplotlib.image.AxesImage at 0x2dbda4f5828>"
      ]
     },
     "execution_count": 35,
     "metadata": {},
     "output_type": "execute_result"
    },
    {
     "data": {
      "image/png": "[encoded data removed]",
      "text/plain": [
       "<matplotlib.figure.Figure at 0x2dbd8def208>"
      ]
     },
     "metadata": {},
     "output_type": "display_data"
    }
   ],
   "source": [
    "color_copy, corner_list = compute_harris_response(img, 3)\n",
    "plt.imshow(color_copy, cmap='gray')"
   ]
  }
 ],
 "metadata": {
  "kernelspec": {
   "display_name": "Python 3",
   "language": "python",
   "name": "python3"
  },
  "language_info": {
   "codemirror_mode": {
    "name": "ipython",
    "version": 3
   },
   "file_extension": ".py",
   "mimetype": "text/x-python",
   "name": "python",
   "nbconvert_exporter": "python",
   "pygments_lexer": "ipython3",
   "version": "3.6.3"
  }
 },
 "nbformat": 4,
 "nbformat_minor": 2
}
